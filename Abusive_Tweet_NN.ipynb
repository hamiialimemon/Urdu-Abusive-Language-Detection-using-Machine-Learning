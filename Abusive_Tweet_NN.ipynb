{
 "cells": [
  {
   "cell_type": "code",
   "execution_count": null,
   "metadata": {
    "id": "B_Xd6VfsSYMS"
   },
   "outputs": [],
   "source": [
    "# Cleaning Environment\n",
    "!rm -rf ./sample_data/"
   ]
  },
  {
   "cell_type": "code",
   "execution_count": null,
   "metadata": {
    "id": "NiyTZsAFSY1_"
   },
   "outputs": [],
   "source": [
    "# Important Imports\n",
    "from sklearn.metrics import confusion_matrix, accuracy_score, average_precision_score, f1_score,recall_score\n",
    "from tensorflow.keras.preprocessing.sequence import pad_sequences\n",
    "from tensorflow.keras.preprocessing.text import Tokenizer\n",
    "from tensorflow.keras.models import Sequential\n",
    "from gensim.utils import simple_preprocess\n",
    "from pandas import read_csv, set_option\n",
    "from numpy import array\n",
    "from json import load"
   ]
  },
  {
   "cell_type": "code",
   "execution_count": null,
   "metadata": {
    "id": "nkYMaKnKSaZO"
   },
   "outputs": [],
   "source": [
    "# Configuration\n",
    "set_option('colwidth', 195)"
   ]
  },
  {
   "cell_type": "code",
   "execution_count": null,
   "metadata": {
    "id": "Ivmrzf-rScGt"
   },
   "outputs": [],
   "source": [
    "# Path to Dataset\n",
    "path_to_training_dataset = \"/content/drive/MyDrive/Abusive Language/train.csv\"\n",
    "path_to_stopwords = \"/content/drive/MyDrive/Abusive Language/stopwords-ur.json\""
   ]
  },
  {
   "cell_type": "code",
   "execution_count": null,
   "metadata": {
    "id": "zkJM5x1mUFrW"
   },
   "outputs": [],
   "source": [
    "training_dataframe = read_csv(path_to_training_dataset)"
   ]
  },
  {
   "cell_type": "code",
   "execution_count": null,
   "metadata": {
    "id": "7ekuCVTbVKUV"
   },
   "outputs": [],
   "source": [
    "#Y=training_dataframe.target\n",
    "\n",
    "# X=training_dataframe.drop('target', axis=1)\n",
    "X=training_dataframe['tweet'].tolist()\n",
    "Y=training_dataframe['target'].tolist()"
   ]
  },
  {
   "cell_type": "code",
   "execution_count": null,
   "metadata": {
    "colab": {
     "base_uri": "https://localhost:8080/",
     "height": 424
    },
    "id": "VknI_6WcWXtR",
    "outputId": "2979579b-b4b9-4496-f872-443046f453b0"
   },
   "outputs": [
    {
     "data": {
      "text/html": [
       "<div>\n",
       "<style scoped>\n",
       "    .dataframe tbody tr th:only-of-type {\n",
       "        vertical-align: middle;\n",
       "    }\n",
       "\n",
       "    .dataframe tbody tr th {\n",
       "        vertical-align: top;\n",
       "    }\n",
       "\n",
       "    .dataframe thead th {\n",
       "        text-align: right;\n",
       "    }\n",
       "</style>\n",
       "<table border=\"1\" class=\"dataframe\">\n",
       "  <thead>\n",
       "    <tr style=\"text-align: right;\">\n",
       "      <th></th>\n",
       "      <th>target</th>\n",
       "    </tr>\n",
       "  </thead>\n",
       "  <tbody>\n",
       "    <tr>\n",
       "      <th>0</th>\n",
       "      <td>1</td>\n",
       "    </tr>\n",
       "    <tr>\n",
       "      <th>1</th>\n",
       "      <td>0</td>\n",
       "    </tr>\n",
       "    <tr>\n",
       "      <th>2</th>\n",
       "      <td>0</td>\n",
       "    </tr>\n",
       "    <tr>\n",
       "      <th>3</th>\n",
       "      <td>0</td>\n",
       "    </tr>\n",
       "    <tr>\n",
       "      <th>4</th>\n",
       "      <td>0</td>\n",
       "    </tr>\n",
       "    <tr>\n",
       "      <th>...</th>\n",
       "      <td>...</td>\n",
       "    </tr>\n",
       "    <tr>\n",
       "      <th>2395</th>\n",
       "      <td>1</td>\n",
       "    </tr>\n",
       "    <tr>\n",
       "      <th>2396</th>\n",
       "      <td>1</td>\n",
       "    </tr>\n",
       "    <tr>\n",
       "      <th>2397</th>\n",
       "      <td>1</td>\n",
       "    </tr>\n",
       "    <tr>\n",
       "      <th>2398</th>\n",
       "      <td>1</td>\n",
       "    </tr>\n",
       "    <tr>\n",
       "      <th>2399</th>\n",
       "      <td>0</td>\n",
       "    </tr>\n",
       "  </tbody>\n",
       "</table>\n",
       "<p>2400 rows × 1 columns</p>\n",
       "</div>"
      ],
      "text/plain": [
       "      target\n",
       "0          1\n",
       "1          0\n",
       "2          0\n",
       "3          0\n",
       "4          0\n",
       "...      ...\n",
       "2395       1\n",
       "2396       1\n",
       "2397       1\n",
       "2398       1\n",
       "2399       0\n",
       "\n",
       "[2400 rows x 1 columns]"
      ]
     },
     "execution_count": 35,
     "metadata": {},
     "output_type": "execute_result"
    }
   ],
   "source": [
    "Y.to_frame()"
   ]
  },
  {
   "cell_type": "code",
   "execution_count": null,
   "metadata": {
    "id": "Z5maOXt4Vhz0"
   },
   "outputs": [],
   "source": [
    "from sklearn.model_selection import train_test_split\n",
    "train_X, test_X, train_y, test_y = train_test_split(X, Y, test_size=0.25, random_state=0)"
   ]
  },
  {
   "cell_type": "code",
   "execution_count": null,
   "metadata": {
    "colab": {
     "base_uri": "https://localhost:8080/",
     "height": 424
    },
    "id": "ZpF_BmU1VFoC",
    "outputId": "8de224f6-3b4d-4703-82c2-7feeb4268529"
   },
   "outputs": [
    {
     "data": {
      "text/html": [
       "<div>\n",
       "<style scoped>\n",
       "    .dataframe tbody tr th:only-of-type {\n",
       "        vertical-align: middle;\n",
       "    }\n",
       "\n",
       "    .dataframe tbody tr th {\n",
       "        vertical-align: top;\n",
       "    }\n",
       "\n",
       "    .dataframe thead th {\n",
       "        text-align: right;\n",
       "    }\n",
       "</style>\n",
       "<table border=\"1\" class=\"dataframe\">\n",
       "  <thead>\n",
       "    <tr style=\"text-align: right;\">\n",
       "      <th></th>\n",
       "      <th>id</th>\n",
       "      <th>tweet</th>\n",
       "      <th>target</th>\n",
       "    </tr>\n",
       "  </thead>\n",
       "  <tbody>\n",
       "    <tr>\n",
       "      <th>0</th>\n",
       "      <td>1024</td>\n",
       "      <td>قوم کے لیے پرانے خاندانی نمک حرام ہیں</td>\n",
       "      <td>1</td>\n",
       "    </tr>\n",
       "    <tr>\n",
       "      <th>1</th>\n",
       "      <td>1919</td>\n",
       "      <td>اور پھر بھی ان خنزیروں کو بغض نواز میں سپورٹ کرتا رہا اس کو ان سے…</td>\n",
       "      <td>0</td>\n",
       "    </tr>\n",
       "    <tr>\n",
       "      <th>2</th>\n",
       "      <td>102</td>\n",
       "      <td>پاکستان کے قبضے میں اسرائیلی پائلٹ ہے۔</td>\n",
       "      <td>0</td>\n",
       "    </tr>\n",
       "    <tr>\n",
       "      <th>3</th>\n",
       "      <td>679</td>\n",
       "      <td>اور نواز شریف کا نواسہ مستقبل کا وزیر اعظم</td>\n",
       "      <td>0</td>\n",
       "    </tr>\n",
       "    <tr>\n",
       "      <th>4</th>\n",
       "      <td>2093</td>\n",
       "      <td>صرف ٹویٹر پہ بکواس کرنا ہی آسان ہے</td>\n",
       "      <td>0</td>\n",
       "    </tr>\n",
       "    <tr>\n",
       "      <th>...</th>\n",
       "      <td>...</td>\n",
       "      <td>...</td>\n",
       "      <td>...</td>\n",
       "    </tr>\n",
       "    <tr>\n",
       "      <th>2395</th>\n",
       "      <td>2764</td>\n",
       "      <td>ہاہاہا میرا سالہ اپنی باجی کی پدی صاف کر رہا ہے آج تیرا بہنوئی آ رہا ہے تیری گانڈ بھی مارے گا</td>\n",
       "      <td>1</td>\n",
       "    </tr>\n",
       "    <tr>\n",
       "      <th>2396</th>\n",
       "      <td>1332</td>\n",
       "      <td>مادر چود کشمیر بیچنے والوں کے بھڑوے بھروے عوام کو پاگل سمجھ رکھا ہے کتے کے بچے کشمیر بیچ کر اب اس بکواس کا مطلب</td>\n",
       "      <td>1</td>\n",
       "    </tr>\n",
       "    <tr>\n",
       "      <th>2397</th>\n",
       "      <td>2154</td>\n",
       "      <td>ایک لفظ نہیں بہت سارے ہیں مثلاً کُتا، بے غیرت، زانی، کنجر،زکوتہ چور، دلا، بہن چُود، سُور</td>\n",
       "      <td>1</td>\n",
       "    </tr>\n",
       "    <tr>\n",
       "      <th>2398</th>\n",
       "      <td>464</td>\n",
       "      <td>یہ دلّا آدمی رقص کر کر کے آگے کھڑی حجیانیوں کو پتھر مار رہا ہے</td>\n",
       "      <td>1</td>\n",
       "    </tr>\n",
       "    <tr>\n",
       "      <th>2399</th>\n",
       "      <td>1300</td>\n",
       "      <td>انڈیا کشمیر میں بچوں تک کو مار رہا ہے اور کُچھ بیغیرتوں کو جانوروں کی قربانی پر درد اُٹھ رہا</td>\n",
       "      <td>0</td>\n",
       "    </tr>\n",
       "  </tbody>\n",
       "</table>\n",
       "<p>2400 rows × 3 columns</p>\n",
       "</div>"
      ],
      "text/plain": [
       "        id  ... target\n",
       "0     1024  ...      1\n",
       "1     1919  ...      0\n",
       "2      102  ...      0\n",
       "3      679  ...      0\n",
       "4     2093  ...      0\n",
       "...    ...  ...    ...\n",
       "2395  2764  ...      1\n",
       "2396  1332  ...      1\n",
       "2397  2154  ...      1\n",
       "2398   464  ...      1\n",
       "2399  1300  ...      0\n",
       "\n",
       "[2400 rows x 3 columns]"
      ]
     },
     "execution_count": 16,
     "metadata": {},
     "output_type": "execute_result"
    }
   ],
   "source": [
    "training_dataframe"
   ]
  },
  {
   "cell_type": "code",
   "execution_count": null,
   "metadata": {
    "id": "XuA0rE3mTCDl"
   },
   "outputs": [],
   "source": [
    "# Loading Training & Testing Dataset\n",
    "training_dataframe = read_csv(path_to_training_dataset)\n",
    "#testing_dataframe = read_csv(path_to_testing_dataset).dropna()\n",
    "\n",
    "training_dataset = train_X\n",
    "training_labels = train_y\n",
    "\n",
    "testing_dataset =test_X\n",
    "testing_labels = test_y"
   ]
  },
  {
   "cell_type": "code",
   "execution_count": null,
   "metadata": {
    "id": "IHPpTfLbTCRH"
   },
   "outputs": [],
   "source": [
    "# Create a set of Stop and frequent words\n",
    "removelist = set('اب ابھی اپنا اپنے اپنی اٹھا اس اسے اسی اگر ان انہوں انہی انہیں انھیں او اور اے ایسا ایسے ایسی ایک آ آپ آتا آتے آتی آگے آنا آنے آنی آئے آئی آئیں آیا با بڑا بڑے بڑی بعد بعض بلکہ بہت بھی بے پاس پر پہلے پھر تا تاکہ تب تجھ تجھے تک تم تمام تمہارا تمہارے تمھارے تمہاری تمہیں تمھیں تھا تھے تھی تھیں تو تیری تیرے جا جاتا جاتی جاتے جاتی جانے جانی جاؤ جائے جائیں جب جس جن جنہوں جنہیں جو جیسا جیسے جیسی جیسوں چاہیئے چلا چاہے چونکہ حالاں حالانکہ دو دونوں دوں دے دی دیا دیں دیے دیتا دیتے دیتی دینا دینے دینی دیئے ڈالا ڈالنا ڈالنے ڈالنی ڈالے ڈالی ذرا رکھا رکھتا رکھتے رکھتی رکھنا رکھنے رکھنی رکھے رکھی رہ رہا رہتا رہتے رہتی رہنا رہنے رہنی رہو رہے رہی رہیں زیادہ سا سامنے سب سکتا سو سے سی شاید صرف طرح طرف عین کا کبھی کچھ کہہ کر کرتا کرتے کرتی کرنا کرنے کرو کروں کرے کریں کس کسے کسی کہ کہا کہے کو کون کوئی کے کی کیا کیسے کیوں کیونکہ کیے کئے گا گویا گے گی گیا گئے گئی لا لاتا لاتے لاتی لانا لانے لانی لایا لائے لائی لگا لگے لگی لگیں لو لے لی لیا لیتا لیتے لیتی لیکن لیں لیے لئے مجھ مجھے مگر میرا میرے میری میں نا نہ نہایت نہیں نے ہاں ہر ہم ہمارا ہمارے ہماری ہو ہوا ہوتا ہوتے ہوتی ہوتیں ہوں ہونا ہونگے ہونے ہونی ہوئے ہوئی ہوئیں ہے ہی ہیں و والا والوں والے والی وہ وہاں وہی وہیں یا یعنی یہ یہاں یہی یہیں'.split())\n",
    "with open(path_to_stopwords) as f: stop_words = set(load(f))\n",
    "stoplist = stop_words.union(removelist)"
   ]
  },
  {
   "cell_type": "code",
   "execution_count": null,
   "metadata": {
    "id": "7pV2BqSWTehM"
   },
   "outputs": [],
   "source": [
    "# Sentences\n",
    "training_sentences = [\" \".join([word for word in simple_preprocess(tweet) if word not in stoplist]) for tweet in training_dataset]\n",
    "testing_sentences = [\" \".join([word for word in simple_preprocess(tweet) if word not in stoplist]) for tweet in testing_dataset]"
   ]
  },
  {
   "cell_type": "code",
   "execution_count": null,
   "metadata": {
    "id": "xGshF6KGTiMw"
   },
   "outputs": [],
   "source": [
    "# Parameters\n",
    "vocab_size = 5221"
   ]
  },
  {
   "cell_type": "code",
   "execution_count": null,
   "metadata": {
    "colab": {
     "base_uri": "https://localhost:8080/"
    },
    "id": "2AdUkz54TjiF",
    "outputId": "cb6a3c04-f9c3-4e06-b773-4335e7165d12"
   },
   "outputs": [
    {
     "data": {
      "text/plain": [
       "4421"
      ]
     },
     "execution_count": 46,
     "metadata": {},
     "output_type": "execute_result"
    }
   ],
   "source": [
    "# Tokenizer\n",
    "tokenizer = Tokenizer(num_words=vocab_size, oov_token=\"<OOV>\")\n",
    "tokenizer.fit_on_texts(training_sentences)\n",
    "word_index = tokenizer.word_index\n",
    "len(word_index)"
   ]
  },
  {
   "cell_type": "code",
   "execution_count": null,
   "metadata": {
    "id": "rtPAi9GMTlLa"
   },
   "outputs": [],
   "source": [
    "# Sequences\n",
    "training_sequences = tokenizer.texts_to_sequences(training_sentences)\n",
    "sentence_length = max([len(sequence) for sequence in training_sequences])\n",
    "padded_training_sequences = pad_sequences(training_sequences, maxlen=sentence_length, padding='post')\n",
    "\n",
    "testing_sequences = tokenizer.texts_to_sequences(testing_sentences)\n",
    "padded_testing_sequences = pad_sequences(testing_sequences, maxlen=sentence_length, padding='post')"
   ]
  },
  {
   "cell_type": "code",
   "execution_count": null,
   "metadata": {
    "colab": {
     "base_uri": "https://localhost:8080/"
    },
    "id": "PCHaJliETorX",
    "outputId": "0b2e7deb-c424-48dd-faff-67dc5a046800"
   },
   "outputs": [
    {
     "name": "stdout",
     "output_type": "stream",
     "text": [
      "[ 11  40 228 291  99   0   0   0   0   0   0   0   0   0   0   0   0   0\n",
      "   0   0   0   0   0   0   0]\n"
     ]
    }
   ],
   "source": [
    "print(padded_training_sequences[0])"
   ]
  },
  {
   "cell_type": "code",
   "execution_count": null,
   "metadata": {
    "id": "XAPWrorETqoS"
   },
   "outputs": [],
   "source": [
    "import tensorflow.keras.layers as layers\n",
    "from tensorflow.keras.optimizers import Adam\n",
    "\n",
    "# Model\n",
    "model = Sequential([\n",
    "  layers.Embedding(vocab_size, 128, input_length=sentence_length),\n",
    "  layers.GlobalAveragePooling1D(),\n",
    "  layers.Dense(1, activation='sigmoid')\n",
    "])"
   ]
  },
  {
   "cell_type": "code",
   "execution_count": null,
   "metadata": {
    "id": "28OxFf-5TuGX"
   },
   "outputs": [],
   "source": [
    "# Model Compile\n",
    "model.compile(loss='binary_crossentropy', optimizer=Adam(learning_rate=0.001),  metrics=['accuracy'])"
   ]
  },
  {
   "cell_type": "code",
   "execution_count": null,
   "metadata": {
    "colab": {
     "base_uri": "https://localhost:8080/"
    },
    "id": "AXOUvKzFTxI7",
    "outputId": "d53fb45a-e967-423b-b161-b4ea4228e07b"
   },
   "outputs": [
    {
     "name": "stdout",
     "output_type": "stream",
     "text": [
      "Epoch 1/10\n",
      "57/57 [==============================] - 1s 8ms/step - loss: 0.7485 - accuracy: 0.6200\n",
      "Epoch 2/10\n",
      "57/57 [==============================] - 0s 8ms/step - loss: 0.6477 - accuracy: 0.6617\n",
      "Epoch 3/10\n",
      "57/57 [==============================] - 0s 8ms/step - loss: 0.5761 - accuracy: 0.7100\n",
      "Epoch 4/10\n",
      "57/57 [==============================] - 0s 8ms/step - loss: 0.5194 - accuracy: 0.7428\n",
      "Epoch 5/10\n",
      "57/57 [==============================] - 0s 8ms/step - loss: 0.4725 - accuracy: 0.7783\n",
      "Epoch 6/10\n",
      "57/57 [==============================] - 0s 8ms/step - loss: 0.4333 - accuracy: 0.7994\n",
      "Epoch 7/10\n",
      "57/57 [==============================] - 0s 8ms/step - loss: 0.3981 - accuracy: 0.8233\n",
      "Epoch 8/10\n",
      "57/57 [==============================] - 0s 8ms/step - loss: 0.3661 - accuracy: 0.8417\n",
      "Epoch 9/10\n",
      "57/57 [==============================] - 0s 8ms/step - loss: 0.3377 - accuracy: 0.8644\n",
      "Epoch 10/10\n",
      "57/57 [==============================] - 0s 8ms/step - loss: 0.3118 - accuracy: 0.8794\n"
     ]
    }
   ],
   "source": [
    "# Fitting\n",
    "history = model.fit(padded_training_sequences, array(training_labels), epochs=10)"
   ]
  },
  {
   "cell_type": "code",
   "execution_count": null,
   "metadata": {
    "id": "ktA0skFmT3wU"
   },
   "outputs": [],
   "source": [
    "# Inference\n",
    "predictions = model.predict(padded_testing_sequences)\n",
    "rounded_predictions = [round(prediction[0]) for prediction in predictions]"
   ]
  },
  {
   "cell_type": "code",
   "execution_count": null,
   "metadata": {
    "colab": {
     "base_uri": "https://localhost:8080/",
     "height": 424
    },
    "id": "1x8kUitIZ6jN",
    "outputId": "19131f13-e530-489d-c59a-4d65d987e271"
   },
   "outputs": [
    {
     "data": {
      "text/html": [
       "<div>\n",
       "<style scoped>\n",
       "    .dataframe tbody tr th:only-of-type {\n",
       "        vertical-align: middle;\n",
       "    }\n",
       "\n",
       "    .dataframe tbody tr th {\n",
       "        vertical-align: top;\n",
       "    }\n",
       "\n",
       "    .dataframe thead th {\n",
       "        text-align: right;\n",
       "    }\n",
       "</style>\n",
       "<table border=\"1\" class=\"dataframe\">\n",
       "  <thead>\n",
       "    <tr style=\"text-align: right;\">\n",
       "      <th></th>\n",
       "      <th>0</th>\n",
       "    </tr>\n",
       "  </thead>\n",
       "  <tbody>\n",
       "    <tr>\n",
       "      <th>1</th>\n",
       "      <td>1</td>\n",
       "    </tr>\n",
       "    <tr>\n",
       "      <th>0</th>\n",
       "      <td>0</td>\n",
       "    </tr>\n",
       "    <tr>\n",
       "      <th>0</th>\n",
       "      <td>0</td>\n",
       "    </tr>\n",
       "    <tr>\n",
       "      <th>1</th>\n",
       "      <td>1</td>\n",
       "    </tr>\n",
       "    <tr>\n",
       "      <th>0</th>\n",
       "      <td>0</td>\n",
       "    </tr>\n",
       "    <tr>\n",
       "      <th>...</th>\n",
       "      <td>...</td>\n",
       "    </tr>\n",
       "    <tr>\n",
       "      <th>0</th>\n",
       "      <td>0</td>\n",
       "    </tr>\n",
       "    <tr>\n",
       "      <th>1</th>\n",
       "      <td>1</td>\n",
       "    </tr>\n",
       "    <tr>\n",
       "      <th>0</th>\n",
       "      <td>1</td>\n",
       "    </tr>\n",
       "    <tr>\n",
       "      <th>0</th>\n",
       "      <td>0</td>\n",
       "    </tr>\n",
       "    <tr>\n",
       "      <th>0</th>\n",
       "      <td>0</td>\n",
       "    </tr>\n",
       "  </tbody>\n",
       "</table>\n",
       "<p>600 rows × 1 columns</p>\n",
       "</div>"
      ],
      "text/plain": [
       "    0\n",
       "1   1\n",
       "0   0\n",
       "0   0\n",
       "1   1\n",
       "0   0\n",
       ".. ..\n",
       "0   0\n",
       "1   1\n",
       "0   1\n",
       "0   0\n",
       "0   0\n",
       "\n",
       "[600 rows x 1 columns]"
      ]
     },
     "execution_count": 61,
     "metadata": {},
     "output_type": "execute_result"
    }
   ],
   "source": [
    "import pandas as pd\n",
    "model_evaluation = pd.DataFrame(rounded_predictions,test_y)\n",
    "model_evaluation"
   ]
  },
  {
   "cell_type": "code",
   "execution_count": null,
   "metadata": {
    "colab": {
     "base_uri": "https://localhost:8080/"
    },
    "id": "_ekIgv3kZAA9",
    "outputId": "b8b392eb-c734-4953-e6a6-1648849e6bf7"
   },
   "outputs": [
    {
     "name": "stdout",
     "output_type": "stream",
     "text": [
      "Confusion Matrix: [[267  38]\n",
      " [ 87 208]]\n",
      "Accuracy: 0.7916666666666666\n",
      "Precision: 0.7411692159294475\n",
      "F1 Score: 0.7689463955637708\n",
      "Recall Score: 0.7050847457627119\n"
     ]
    }
   ],
   "source": [
    "# Evaluate Model\n",
    "print(f\"Confusion Matrix: {confusion_matrix(y_true=testing_labels, y_pred=rounded_predictions)}\")\n",
    "print(f\"Accuracy: {accuracy_score(y_true=testing_labels, y_pred=rounded_predictions)}\")\n",
    "print(f\"Precision: {average_precision_score(y_true=testing_labels, y_score=rounded_predictions)}\")\n",
    "print(f\"F1 Score: {f1_score(y_true=testing_labels, y_pred=rounded_predictions)}\")\n",
    "print(f\"Recall Score: {recall_score(y_true=testing_labels, y_pred=rounded_predictions)}\")"
   ]
  },
  {
   "cell_type": "code",
   "execution_count": null,
   "metadata": {
    "colab": {
     "base_uri": "https://localhost:8080/",
     "height": 297
    },
    "id": "TO_NajYtZD0M",
    "outputId": "97f1dc08-6c44-4235-eff0-e4d3b70b6562"
   },
   "outputs": [
    {
     "name": "stdout",
     "output_type": "stream",
     "text": [
      "Classifier: ROC AUC=0.870\n"
     ]
    },
    {
     "data": {
      "image/png": "[encoded data removed]",
      "text/plain": [
       "<Figure size 432x288 with 1 Axes>"
      ]
     },
     "metadata": {
      "needs_background": "light"
     },
     "output_type": "display_data"
    }
   ],
   "source": [
    "dtc_probs=predictions[:,0]\n",
    "# submission={\n",
    "#     'id':data['id'],\n",
    "#     'target':test_pred,\n",
    "#     'score':dtc_probs,\n",
    "# }\n",
    "\n",
    "# submission=pd.DataFrame(submission)\n",
    "# submission.to_csv(\"subt.csv\")\n",
    "from sklearn.metrics import roc_curve\n",
    "from sklearn.metrics import roc_auc_score\n",
    "from matplotlib import pyplot\n",
    "lr_auc = roc_auc_score(test_y, dtc_probs)\n",
    "# summarize scores\n",
    "print('Classifier: ROC AUC=%.3f' % (lr_auc))\n",
    "# calculate roc curves\n",
    "lr_fpr, lr_tpr, _ = roc_curve(test_y, dtc_probs)\n",
    "# plot the roc curve for the model\n",
    "pyplot.plot(lr_fpr, lr_tpr, marker='.', label='Classifer')\n",
    "# axis labels\n",
    "pyplot.xlabel('False Positive Rate')\n",
    "pyplot.ylabel('True Positive Rate')\n",
    "# show the legend\n",
    "pyplot.legend()\n",
    "# show the plot\n",
    "pyplot.show()\n",
    "\n",
    "from sklearn.model_selection import KFold\n",
    "from sklearn.neighbors import KNeighborsClassifier\n",
    "import matplotlib.pyplot as plt\n",
    "kf = KFold(n_splits=4)\n",
    "mae_train = []\n",
    "mae_test = []"
   ]
  },
  {
   "cell_type": "code",
   "execution_count": null,
   "metadata": {
    "id": "P-PWtrPpcdaE"
   },
   "outputs": [],
   "source": []
  }
 ],
 "metadata": {
  "colab": {
   "name": "Abusive Tweet NN.ipynb",
   "provenance": []
  },
  "kernelspec": {
   "display_name": "Python 3",
   "language": "python",
   "name": "python3"
  },
  "language_info": {
   "codemirror_mode": {
    "name": "ipython",
    "version": 3
   },
   "file_extension": ".py",
   "mimetype": "text/x-python",
   "name": "python",
   "nbconvert_exporter": "python",
   "pygments_lexer": "ipython3",
   "version": "3.6.2"
  }
 },
 "nbformat": 4,
 "nbformat_minor": 1
}
